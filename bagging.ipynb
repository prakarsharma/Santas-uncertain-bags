{
 "cells": [
  {
   "cell_type": "code",
   "execution_count": 74,
   "metadata": {},
   "outputs": [],
   "source": [
    "import numpy as np\n",
    "import pandas as pd\n",
    "import re\n",
    "import pdb\n",
    "from matplotlib import pyplot as plt\n",
    "from scipy import stats as st\n",
    "%matplotlib inline"
   ]
  },
  {
   "cell_type": "code",
   "execution_count": 2,
   "metadata": {},
   "outputs": [],
   "source": [
    "gifts=pd.read_csv('gifts.csv')"
   ]
  },
  {
   "cell_type": "code",
   "execution_count": 3,
   "metadata": {},
   "outputs": [
    {
     "data": {
      "text/plain": [
       "(7166, 1)"
      ]
     },
     "execution_count": 3,
     "metadata": {},
     "output_type": "execute_result"
    }
   ],
   "source": [
    "gifts.shape"
   ]
  },
  {
   "cell_type": "code",
   "execution_count": 4,
   "metadata": {},
   "outputs": [],
   "source": [
    "gifts=gifts.assign(gift=gifts.GiftId.apply(lambda x: x.split('_')[0]).apply(lambda x: re.sub(\"s$\",\"\",x)))"
   ]
  },
  {
   "cell_type": "code",
   "execution_count": 5,
   "metadata": {},
   "outputs": [
    {
     "data": {
      "text/plain": [
       "{'ball', 'bike', 'block', 'book', 'coal', 'doll', 'glove', 'horse', 'train'}"
      ]
     },
     "execution_count": 5,
     "metadata": {},
     "output_type": "execute_result"
    }
   ],
   "source": [
    "set(gifts.gift)"
   ]
  },
  {
   "cell_type": "code",
   "execution_count": 6,
   "metadata": {},
   "outputs": [
    {
     "data": {
      "text/html": [
       "<div>\n",
       "<table border=\"1\" class=\"dataframe\">\n",
       "  <thead>\n",
       "    <tr style=\"text-align: right;\">\n",
       "      <th></th>\n",
       "      <th>GiftId</th>\n",
       "    </tr>\n",
       "    <tr>\n",
       "      <th>gift</th>\n",
       "      <th></th>\n",
       "    </tr>\n",
       "  </thead>\n",
       "  <tbody>\n",
       "    <tr>\n",
       "      <th>ball</th>\n",
       "      <td>1100</td>\n",
       "    </tr>\n",
       "    <tr>\n",
       "      <th>bike</th>\n",
       "      <td>500</td>\n",
       "    </tr>\n",
       "    <tr>\n",
       "      <th>block</th>\n",
       "      <td>1000</td>\n",
       "    </tr>\n",
       "    <tr>\n",
       "      <th>book</th>\n",
       "      <td>1200</td>\n",
       "    </tr>\n",
       "    <tr>\n",
       "      <th>coal</th>\n",
       "      <td>166</td>\n",
       "    </tr>\n",
       "    <tr>\n",
       "      <th>doll</th>\n",
       "      <td>1000</td>\n",
       "    </tr>\n",
       "    <tr>\n",
       "      <th>glove</th>\n",
       "      <td>200</td>\n",
       "    </tr>\n",
       "    <tr>\n",
       "      <th>horse</th>\n",
       "      <td>1000</td>\n",
       "    </tr>\n",
       "    <tr>\n",
       "      <th>train</th>\n",
       "      <td>1000</td>\n",
       "    </tr>\n",
       "  </tbody>\n",
       "</table>\n",
       "</div>"
      ],
      "text/plain": [
       "       GiftId\n",
       "gift         \n",
       "ball     1100\n",
       "bike      500\n",
       "block    1000\n",
       "book     1200\n",
       "coal      166\n",
       "doll     1000\n",
       "glove     200\n",
       "horse    1000\n",
       "train    1000"
      ]
     },
     "execution_count": 6,
     "metadata": {},
     "output_type": "execute_result"
    }
   ],
   "source": [
    "gifts.groupby('gift').count()"
   ]
  },
  {
   "cell_type": "code",
   "execution_count": 7,
   "metadata": {},
   "outputs": [],
   "source": [
    "def pound_weighted_gifts():\n",
    "    \n",
    "    weights = {'horse' : max(0, np.random.normal(5,2,1)[0]),\n",
    "\n",
    "    'ball' : max(0, 1 + np.random.normal(1,0.3,1)[0]),\n",
    "\n",
    "    'bike' : max(0, np.random.normal(20,10,1)[0]),\n",
    "\n",
    "    'train' : max(0, np.random.normal(10,5,1)[0]),\n",
    "\n",
    "    'coal' : 47 * np.random.beta(0.5,0.5,1)[0],\n",
    "\n",
    "    'book' : np.random.chisquare(2,1)[0],\n",
    "\n",
    "    'doll' : np.random.gamma(5,1,1)[0],\n",
    "\n",
    "    'block' : np.random.triangular(5,10,20,1)[0],\n",
    "\n",
    "    'gloves' : 3.0 + np.random.rand(1)[0] if np.random.rand(1) < 0.3 else np.random.rand(1)[0]}\n",
    "\n",
    "    weights = pd.DataFrame(weights,index=['lbs']).T\n",
    "\n",
    "    adjcolnames=pd.DataFrame(weights.index.tolist(),index=weights.index,columns=['colnames']).colnames.apply(lambda x: re.sub(\"s$\",\"\",x))\n",
    "\n",
    "    weights.index=adjcolnames\n",
    "    \n",
    "    return weights"
   ]
  },
  {
   "cell_type": "code",
   "execution_count": 8,
   "metadata": {},
   "outputs": [],
   "source": [
    "def pound_weighted_gifts(gifttype):\n",
    "    \n",
    "    weights = {'horse' : max(0, np.random.normal(5,2,1)[0]),\n",
    "\n",
    "    'ball' : max(0, 1 + np.random.normal(1,0.3,1)[0]),\n",
    "\n",
    "    'bike' : max(0, np.random.normal(20,10,1)[0]),\n",
    "\n",
    "    'train' : max(0, np.random.normal(10,5,1)[0]),\n",
    "\n",
    "    'coal' : 47 * np.random.beta(0.5,0.5,1)[0],\n",
    "\n",
    "    'book' : np.random.chisquare(2,1)[0],\n",
    "\n",
    "    'doll' : np.random.gamma(5,1,1)[0],\n",
    "\n",
    "    'block' : np.random.triangular(5,10,20,1)[0],\n",
    "\n",
    "    'glove' : 3.0 + np.random.rand(1)[0] if np.random.rand(1) < 0.3 else np.random.rand(1)[0]}\n",
    "    \n",
    "    return weights[gifttype]"
   ]
  },
  {
   "cell_type": "code",
   "execution_count": 100,
   "metadata": {},
   "outputs": [],
   "source": [
    "weights=gifts.gift.apply(pound_weighted_gifts)"
   ]
  },
  {
   "cell_type": "code",
   "execution_count": 7,
   "metadata": {},
   "outputs": [
    {
     "data": {
      "text/plain": [
       "9"
      ]
     },
     "execution_count": 7,
     "metadata": {},
     "output_type": "execute_result"
    }
   ],
   "source": [
    "weight_dist=pound_weighted_gifts()\n",
    "for i in range(100):\n",
    "    weight_dist=weight_dist.append(pound_weighted_gifts())\n",
    "len(set(weight_dist.index.values))"
   ]
  },
  {
   "cell_type": "code",
   "execution_count": 8,
   "metadata": {},
   "outputs": [],
   "source": [
    "fig_size = plt.rcParams[\"figure.figsize\"]\n",
    "fig_size[0] = 6\n",
    "fig_size[1] = 4"
   ]
  },
  {
   "cell_type": "code",
   "execution_count": 10,
   "metadata": {},
   "outputs": [],
   "source": [
    "def plot_weights(x,bins):\n",
    "    fig, ax1 = plt.subplots()\n",
    "    ax1.set_ylabel('freq')\n",
    "    ax1.hist(np.ravel(x),bins=bins,histtype='step')\n",
    "\n",
    "    x.sort()\n",
    "\n",
    "    ax2 = ax1.twinx()\n",
    "    ax2.set_ylabel('prob')\n",
    "    ax2.plot(np.ravel(x),st.norm.pdf(np.ravel(x),loc=np.mean(x),scale=np.std(x)),'--k')\n",
    "    plt.show()"
   ]
  },
  {
   "cell_type": "code",
   "execution_count": 10,
   "metadata": {},
   "outputs": [
    {
     "data": {
      "image/png": "[encoded data removed]",
      "text/plain": [
       "<matplotlib.figure.Figure at 0xb63da20>"
      ]
     },
     "metadata": {},
     "output_type": "display_data"
    }
   ],
   "source": [
    "plot_weights(weight_dist.loc['coal',].iloc[:,0].tolist(),10)"
   ]
  },
  {
   "cell_type": "code",
   "execution_count": 10,
   "metadata": {
    "scrolled": true
   },
   "outputs": [
    {
     "data": {
      "image/png": "[encoded data removed]",
      "text/plain": [
       "<matplotlib.figure.Figure at 0x111d438>"
      ]
     },
     "metadata": {},
     "output_type": "display_data"
    }
   ],
   "source": [
    "j=1\n",
    "for i in set(weight_dist.index.values):\n",
    "    plt.subplot(3,3,j)\n",
    "    plt.hist(weight_dist.loc[i,:].values,bins=10,histtype='step')\n",
    "    plt.title(i)\n",
    "    j+=1\n",
    "plt.show()"
   ]
  },
  {
   "cell_type": "markdown",
   "metadata": {},
   "source": [
    "## a bag"
   ]
  },
  {
   "cell_type": "code",
   "execution_count": 11,
   "metadata": {},
   "outputs": [],
   "source": [
    "class bag:\n",
    "    def __init__(self,gifts=None):\n",
    "        self.gifts, self.num, self.lbs, self.weight = [], 0, [], 0\n",
    "        if gifts is not None:\n",
    "            self.gifts=gifts.GiftId.tolist()\n",
    "            self.lbs=gifts.lbs.tolist()\n",
    "            self.number()\n",
    "            self.weigh()\n",
    "    def empty(self):\n",
    "        self.gifts.pop()\n",
    "        self.lbs.pop()\n",
    "        self.number()\n",
    "        self.weigh()\n",
    "    def fill(self,gifts):\n",
    "        self.gifts.append(gifts.GiftId)\n",
    "        self.lbs.append(gifts.lbs)\n",
    "        self.number()\n",
    "        self.weigh()\n",
    "    def number(self):\n",
    "        self.num=len(self.gifts)\n",
    "    def weigh(self):\n",
    "        self.weight=np.sum(self.lbs)"
   ]
  },
  {
   "cell_type": "markdown",
   "metadata": {},
   "source": [
    "## a consignment of bags"
   ]
  },
  {
   "cell_type": "code",
   "execution_count": 81,
   "metadata": {},
   "outputs": [],
   "source": [
    "class consignment:\n",
    "    def __init__(self, bags=None):\n",
    "        self.inventory, self.items, self.bag_items, self.num, self.weight = [], [], [], 0, 0\n",
    "        if bags is not None:\n",
    "            for bag1 in bags:\n",
    "                self.addbag(bag1)\n",
    "    def addbag(self,bag1):\n",
    "        if (bag1.weight<=50) and (bag1.num>=3):\n",
    "            self.inventory.append(bag1)\n",
    "            if len(self.inventory)>1000:\n",
    "                lbs=[bag1.weight for bag1 in self.inventory]\n",
    "                discount=lbs.index(np.min(lbs))\n",
    "                del self.inventory[discount]\n",
    "                #lbs.sort(reverse=True)\n",
    "                #lbs=lbs[0:999]\n",
    "                #self.inventory=[bag1 for bag1 in self.inventory if bag1.weight in lbs]\n",
    "            self.manifest()\n",
    "    def manifest(self):\n",
    "        self.items, self.bag_items, self.num, self.weight = [], [], 0, 0\n",
    "        for bag1 in self.inventory:\n",
    "            self.items.extend(bag1.gifts)\n",
    "            self.bag_items.append(\" \".join([j for j in bag1.gifts]))\n",
    "            self.num+=bag1.num\n",
    "            self.weight+=bag1.weight"
   ]
  },
  {
   "cell_type": "markdown",
   "metadata": {},
   "source": [
    "## creating a consignment"
   ]
  },
  {
   "cell_type": "markdown",
   "metadata": {},
   "source": [
    "#### fill all bags"
   ]
  },
  {
   "cell_type": "code",
   "execution_count": 13,
   "metadata": {},
   "outputs": [],
   "source": [
    "def bagallbags(gifts):\n",
    "    picked, con1 = [], consignment()\n",
    "    for i in range(1000):\n",
    "        bag1, j = bag(), 0\n",
    "        while (not(np.all(gifts.index.isin(picked)))) and (j<10):\n",
    "            pick=np.random.choice(gifts[~gifts.index.isin(picked)].index.tolist(),size=1)[0]\n",
    "            picked.append(pick)\n",
    "            bag1.fill(gifts.iloc[pick])\n",
    "            if bag1.weight>50:\n",
    "                bag1.empty()\n",
    "                picked.pop()\n",
    "                if bag1.num>=3:\n",
    "                    break\n",
    "            j+=1\n",
    "        con1.addbag(bag1)\n",
    "    return con1"
   ]
  },
  {
   "cell_type": "markdown",
   "metadata": {},
   "source": [
    "#### bag all gifts"
   ]
  },
  {
   "cell_type": "code",
   "execution_count": 14,
   "metadata": {},
   "outputs": [],
   "source": [
    "def bagallgifts(gifts):\n",
    "    i, picked, con1 = 0, [], consignment()\n",
    "    for i in range(gifts.shape[0]):\n",
    "        bag1, j = bag(), 0\n",
    "        while (not(np.all(gifts.index.isin(picked)))) and (j<10):\n",
    "            pick=np.random.choice(gifts[~gifts.index.isin(picked)].index.values,size=1)[0]\n",
    "            picked.append(pick)\n",
    "            bag1.fill(gifts.iloc[pick])\n",
    "            if bag1.weight>50:\n",
    "                bag1.empty()\n",
    "                picked.pop()\n",
    "                if bag1.num>=3:\n",
    "                    break\n",
    "            j+=1\n",
    "        con1.addbag(bag1)\n",
    "        if len(picked)==gifts.shape[0]:\n",
    "            break\n",
    "    return con1"
   ]
  },
  {
   "cell_type": "markdown",
   "metadata": {},
   "source": [
    "#### bag all gifts adjusting bag weight with Standard Error of Mean"
   ]
  },
  {
   "cell_type": "code",
   "execution_count": 101,
   "metadata": {},
   "outputs": [],
   "source": [
    "def varadjbagallgifts(gifts,adj):\n",
    "    picked, con1 = [], consignment()\n",
    "    while (not(np.all(gifts.GiftId.isin(picked)))):\n",
    "        #pdb.set_trace()\n",
    "        bag1, j = bag(), 0\n",
    "        while (not(np.all(gifts.GiftId.isin(picked)))) and (j<10):\n",
    "            pick=np.random.choice(gifts[~gifts.GiftId.isin(picked)].index.values,size=1)[0]\n",
    "            picked.append(gifts.GiftId.iloc[pick])\n",
    "            bag1.fill(gifts.iloc[pick])\n",
    "            mu=np.mean(bag1.lbs)\n",
    "            SEM=np.std(bag1.lbs)/np.sqrt(bag1.num)\n",
    "            varadjbagweight=(mu+adj*SEM)*bag1.num\n",
    "            if bag1.num>3 and varadjbagweight>50:\n",
    "                bag1.empty()\n",
    "                picked.pop()\n",
    "                j+=1\n",
    "        con1.addbag(bag1)\n",
    "    return con1"
   ]
  },
  {
   "cell_type": "markdown",
   "metadata": {},
   "source": [
    "#### bag similar gifts adjusting bag weight with Standard Error of Mean"
   ]
  },
  {
   "cell_type": "markdown",
   "metadata": {},
   "source": [
    "#### testing all gifts"
   ]
  },
  {
   "cell_type": "code",
   "execution_count": 16,
   "metadata": {},
   "outputs": [],
   "source": [
    "#gifts2=gifts.assign(lbs=gifts.merge(pound_weighted_gifts(),left_on='gift',right_index=True).loc[:,'lbs'])"
   ]
  },
  {
   "cell_type": "code",
   "execution_count": 85,
   "metadata": {},
   "outputs": [],
   "source": [
    "gifts2=gifts.assign(lbs=weights)"
   ]
  },
  {
   "cell_type": "code",
   "execution_count": 92,
   "metadata": {},
   "outputs": [
    {
     "data": {
      "text/plain": [
       "(1000, 5375, 34397.834227129097)"
      ]
     },
     "execution_count": 92,
     "metadata": {},
     "output_type": "execute_result"
    }
   ],
   "source": [
    "con0 = varadjbagallgifts(gifts2,2)\n",
    "len(con0.inventory), con0.num, con0.weight"
   ]
  },
  {
   "cell_type": "markdown",
   "metadata": {},
   "source": [
    "#### testing similar gifts"
   ]
  },
  {
   "cell_type": "markdown",
   "metadata": {},
   "source": [
    "#### list of consigments"
   ]
  },
  {
   "cell_type": "code",
   "execution_count": 110,
   "metadata": {},
   "outputs": [],
   "source": [
    "conlist = gifts2.groupby('gift').apply(lambda x: varadjbagallgifts(x.reset_index(drop=True),2))"
   ]
  },
  {
   "cell_type": "markdown",
   "metadata": {},
   "source": [
    "#### bagged gifts"
   ]
  },
  {
   "cell_type": "code",
   "execution_count": 111,
   "metadata": {
    "scrolled": true
   },
   "outputs": [
    {
     "data": {
      "text/plain": [
       "6613"
      ]
     },
     "execution_count": 111,
     "metadata": {},
     "output_type": "execute_result"
    }
   ],
   "source": [
    "allpicked=[]\n",
    "[allpicked.extend(i.items) for i in conlist.tolist()]\n",
    "len(allpicked)"
   ]
  },
  {
   "cell_type": "markdown",
   "metadata": {},
   "source": [
    "#### creating a big consignment"
   ]
  },
  {
   "cell_type": "code",
   "execution_count": 112,
   "metadata": {},
   "outputs": [
    {
     "data": {
      "text/plain": [
       "(1000, 6600, 37902.384173243925)"
      ]
     },
     "execution_count": 112,
     "metadata": {},
     "output_type": "execute_result"
    }
   ],
   "source": [
    "con0=consignment()\n",
    "[con0.addbag(j) for i in conlist.tolist() for j in i.inventory]\n",
    "len(con0.inventory), con0.num, con0.weight"
   ]
  },
  {
   "cell_type": "markdown",
   "metadata": {},
   "source": [
    "#### creating a big inventory"
   ]
  },
  {
   "cell_type": "code",
   "execution_count": null,
   "metadata": {},
   "outputs": [],
   "source": [
    "inventory=con0.inventory"
   ]
  },
  {
   "cell_type": "markdown",
   "metadata": {},
   "source": [
    "#### baging unpicked"
   ]
  },
  {
   "cell_type": "code",
   "execution_count": 115,
   "metadata": {},
   "outputs": [
    {
     "data": {
      "text/plain": [
       "(1000, 6568, 38315.754999533718)"
      ]
     },
     "execution_count": 115,
     "metadata": {},
     "output_type": "execute_result"
    }
   ],
   "source": [
    "con0=consignment()\n",
    "con1=varadjbagallgifts(gifts2[~gifts2.GiftId.isin(allpicked)].reset_index(drop=True),2)"
   ]
  },
  {
   "cell_type": "markdown",
   "metadata": {},
   "source": [
    "#### adding to inventory"
   ]
  },
  {
   "cell_type": "code",
   "execution_count": null,
   "metadata": {},
   "outputs": [],
   "source": [
    "inventory.extend(con1.inventory)\n",
    "[con0.addbag(i) for i in inventory]"
   ]
  },
  {
   "cell_type": "code",
   "execution_count": null,
   "metadata": {},
   "outputs": [],
   "source": [
    "len(con0.inventory), con0.num, con0.weight"
   ]
  },
  {
   "cell_type": "code",
   "execution_count": 122,
   "metadata": {},
   "outputs": [
    {
     "data": {
      "image/png": "[encoded data removed]",
      "text/plain": [
       "<matplotlib.figure.Figure at 0xb819c50>"
      ]
     },
     "metadata": {},
     "output_type": "display_data"
    }
   ],
   "source": [
    "plot_weights([con0.inventory[i].weight for i in range(len(con0.inventory))],10)"
   ]
  },
  {
   "cell_type": "code",
   "execution_count": 123,
   "metadata": {},
   "outputs": [],
   "source": [
    "pd.DataFrame(con0.bag_items,columns=['Gifts']).to_csv('submission2_0110.csv',index=False)"
   ]
  },
  {
   "cell_type": "markdown",
   "metadata": {},
   "source": [
    "## Natural selection"
   ]
  },
  {
   "cell_type": "code",
   "execution_count": 23,
   "metadata": {},
   "outputs": [],
   "source": [
    "#weights=pound_weighted_gifts()"
   ]
  },
  {
   "cell_type": "code",
   "execution_count": 97,
   "metadata": {
    "scrolled": true
   },
   "outputs": [],
   "source": [
    "def selection(cutoff,adj,gifts=gifts,weights=weights):\n",
    "    #gifts2=gifts.assign(lbs=gifts.merge(weights,left_on='gift',right_index=True).loc[:,'lbs'])\n",
    "    gifts2=gifts.assign(lbs=weights)\n",
    "    \n",
    "    con1 = consignment()\n",
    "\n",
    "    for j in range(100):\n",
    "        if (len(con1.inventory)<1000) and (con1.num<gifts.shape[0]):\n",
    "            #con0=bagallgifts(gifts2)\n",
    "            con0=varadjbagallgifts(gifts2,adj)\n",
    "            [con1.addbag(con0.inventory[i]) for i in range(len(con0.inventory)) if con0.inventory[i].weight>=cutoff]\n",
    "            print(con1.weight)\n",
    "            gifts2=gifts2[~gifts2.GiftId.isin(con1.items)].reset_index(drop=True)\n",
    "    return(con1)"
   ]
  },
  {
   "cell_type": "code",
   "execution_count": 98,
   "metadata": {
    "scrolled": true
   },
   "outputs": [
    {
     "name": "stdout",
     "output_type": "stream",
     "text": [
      "6186.89197668\n",
      "10465.8174973\n",
      "14715.3970304\n",
      "17555.4747006\n",
      "19999.7923744\n",
      "22136.4721305\n",
      "23446.5698396\n",
      "24766.1493739\n",
      "26212.4111202\n",
      "26982.0259038\n",
      "27583.6411506\n",
      "28052.2661455\n",
      "28962.0548872\n",
      "29611.481176\n",
      "30046.7434517\n",
      "30510.5949425\n",
      "30929.4952235\n",
      "31430.837226\n",
      "31818.4530404\n",
      "32153.5274947\n",
      "32449.3053098\n",
      "32717.6574051\n",
      "32886.413998\n",
      "33218.1202689\n",
      "33650.3286152\n",
      "34077.012994\n",
      "34289.7938766\n",
      "34500.119241\n",
      "34713.7326827\n",
      "34970.5015738\n",
      "35228.758398\n",
      "35311.0231159\n",
      "35596.2465603\n",
      "35717.8106556\n",
      "35883.8265786\n",
      "35925.0971458\n",
      "36177.6429405\n",
      "36466.2947093\n",
      "36588.6074795\n",
      "36752.1100859\n",
      "36834.6816921\n",
      "36834.6816921\n",
      "37042.2076947\n",
      "37167.4133009\n",
      "37291.6143132\n",
      "37547.3656265\n",
      "37834.6876322\n",
      "38079.7986595\n",
      "38163.2965068\n",
      "38284.9822203\n",
      "38538.9804395\n",
      "38580.3104773\n",
      "38662.179727\n",
      "38744.9215059\n",
      "38988.9455833\n",
      "39032.3832895\n",
      "39155.7038692\n",
      "39361.2225593\n",
      "39443.2023533\n",
      "39486.4151685\n",
      "39568.8793575\n",
      "39691.1605087\n",
      "39691.1605087\n",
      "39813.8025292\n",
      "39894.9385312\n",
      "40101.5255233\n",
      "40224.4036515\n",
      "40348.4789778\n",
      "40348.4789778\n",
      "40472.4285852\n",
      "40564.0750728\n",
      "40685.441902\n",
      "40889.9834223\n",
      "40931.2533983\n",
      "41013.8030862\n",
      "41054.9942622\n",
      "41180.3604103\n",
      "41221.2955618\n",
      "41430.1775581\n",
      "41511.0823389\n",
      "41551.3473734\n",
      "41632.3815002\n",
      "41718.7951296\n",
      "41882.8692265\n",
      "42051.443625\n",
      "42091.8924687\n",
      "42091.8924687\n",
      "42091.8924687\n",
      "42174.4453539\n",
      "42215.0944401\n",
      "42257.3605641\n",
      "42257.3605641\n",
      "42297.4396337\n",
      "42420.4547416\n",
      "42461.6575047\n",
      "42461.6575047\n",
      "42543.5559136\n",
      "42584.6844739\n",
      "42665.6644871\n",
      "42752.5459737\n"
     ]
    },
    {
     "data": {
      "text/plain": [
       "(988, 4528, 42752.545973720436)"
      ]
     },
     "execution_count": 98,
     "metadata": {},
     "output_type": "execute_result"
    }
   ],
   "source": [
    "con1=selection(40,2)\n",
    "len(con1.inventory), con1.num, con1.weight"
   ]
  },
  {
   "cell_type": "code",
   "execution_count": 99,
   "metadata": {},
   "outputs": [],
   "source": [
    "pd.DataFrame(con1.bag_items,columns=['Gifts']).to_csv('submission12_3009.csv',index=False)"
   ]
  },
  {
   "cell_type": "code",
   "execution_count": null,
   "metadata": {},
   "outputs": [],
   "source": []
  },
  {
   "cell_type": "markdown",
   "metadata": {},
   "source": [
    "## Simulated Annealing"
   ]
  },
  {
   "cell_type": "code",
   "execution_count": 31,
   "metadata": {},
   "outputs": [],
   "source": [
    "def anneal(T1,cutoff,rigor,gifts=gifts):\n",
    "    gifts=pounds(gifts)\n",
    "    con0=baggingallbags(gifts)\n",
    "    retries=[]\n",
    "    for dT in range(T1):\n",
    "        T2=T1-dT\n",
    "        cutoff+=dT*rigor/T1\n",
    "        con1=baggingallbags(gifts)\n",
    "        delta=con1.weight-con0.weight\n",
    "        p=np.exp(delta/T2)\n",
    "        if (delta>0) or (p>cutoff):\n",
    "            con0=con1\n",
    "        else:\n",
    "            retries.insert(0,dT)\n",
    "        if len(retries)>10:\n",
    "            if np.sum([retries[i]-retries[i+1] for i in range(10)])==10:\n",
    "                print(\"converged at:\",con0.weight)\n",
    "                break\n",
    "    return con0"
   ]
  },
  {
   "cell_type": "code",
   "execution_count": null,
   "metadata": {
    "scrolled": true
   },
   "outputs": [],
   "source": [
    "con=anneal(T1=1000,cutoff=0.1,rigor=0.8)"
   ]
  },
  {
   "cell_type": "code",
   "execution_count": 31,
   "metadata": {},
   "outputs": [],
   "source": [
    "def anneal(steps,pcutoff,rigor,wcutoff,gifts=gifts,weights=weights,T1=50):\n",
    "    #N=gifts.merge(weights,left_on='gift',right_index=True).loc[:,'lbs'].sum()\n",
    "    N=weights.sum()\n",
    "    \n",
    "    con0=selection(wcutoff,gifts,weights)\n",
    "    retries=[]\n",
    "    \n",
    "    for dT in np.linspace(wcutoff,T1,steps):\n",
    "        T2=T1-dT\n",
    "        pcutoff+=dT*rigor/T1\n",
    "        con1=selection(dT,gifts,weights)\n",
    "        delfitness=(con1.weight-con0.weight)/N\n",
    "        p=np.exp(delfitness/T2)\n",
    "        if (delfitness>0) or (p>pcutoff):\n",
    "            con0=con1\n",
    "        else:\n",
    "            retries.insert(0,dT)\n",
    "        if len(retries)>10:\n",
    "            if np.sum([retries[i]-retries[i+1] for i in range(10)])==10*step:\n",
    "                print(\"converged at:\",con0.weight)\n",
    "                break\n",
    "    return con0"
   ]
  },
  {
   "cell_type": "code",
   "execution_count": 32,
   "metadata": {},
   "outputs": [
    {
     "name": "stdout",
     "output_type": "stream",
     "text": [
      "36458.9207813\n",
      "46019.3959188\n",
      "37986.4754695\n",
      "46099.4143196\n",
      "36159.7794561\n",
      "45850.1848422\n",
      "46504.9742717\n",
      "37098.6188651\n",
      "46249.2538628\n",
      "46535.4487269\n",
      "36459.4967311\n",
      "45426.764144\n",
      "46688.698485\n",
      "35245.7872429\n",
      "44917.8732814\n",
      "46722.6950021\n",
      "33459.3967255\n",
      "45028.5890736\n",
      "46675.6820015\n",
      "31726.4215818\n",
      "43449.2739239\n",
      "46963.2872399\n",
      "30657.5260426\n",
      "42265.8562287\n",
      "47066.0027483\n",
      "31384.0760512\n",
      "41201.6882563\n",
      "46912.3709271\n",
      "47211.51831\n",
      "28046.5477808\n",
      "40337.8791564\n",
      "45847.4787664\n",
      "47376.9310229\n",
      "28511.9847641\n",
      "41981.7781592\n",
      "46642.2538829\n",
      "47565.0387739\n",
      "26307.1705147\n",
      "39652.863381\n",
      "45412.1880372\n",
      "47647.7496545\n",
      "26559.8348893\n",
      "37534.7313763\n",
      "44083.1513233\n",
      "46947.2854292\n",
      "47830.8835456\n",
      "24842.5035927\n",
      "36209.3280438\n",
      "42914.2579364\n",
      "46071.649709\n",
      "47884.6638231\n",
      "21357.6629056\n",
      "34941.7151898\n",
      "41162.8890763\n",
      "45312.9380652\n",
      "47771.9668831\n",
      "48169.882167\n",
      "18871.4849009\n",
      "31438.302325\n",
      "39099.9818041\n",
      "43306.4194995\n",
      "45625.0173775\n",
      "47322.8811714\n",
      "48302.7847895\n",
      "18781.2149894\n",
      "29878.7155444\n",
      "38112.0164171\n",
      "42323.4578729\n",
      "45563.6667951\n",
      "46829.8416477\n",
      "48091.0812194\n",
      "48441.1495414\n",
      "16104.7045595\n",
      "27404.5171275\n",
      "34994.166521\n",
      "40338.7593641\n",
      "43752.9472486\n",
      "45986.2175699\n",
      "47393.797734\n",
      "48169.0691929\n",
      "48609.0151742\n",
      "48671.1553845\n",
      "15644.1596601\n",
      "26380.2001958\n",
      "33025.3651955\n",
      "39138.5407316\n",
      "43134.8871594\n",
      "45140.9783468\n",
      "46318.5583607\n",
      "47395.2873777\n",
      "48030.3428633\n",
      "48423.66044\n",
      "48668.2993089\n",
      "48814.2838568\n",
      "13034.0085223\n",
      "21960.4356644\n",
      "29554.5559456\n",
      "34905.3112879\n",
      "38482.405708\n",
      "41030.5159561\n",
      "43388.1510325\n",
      "45051.7652091\n",
      "46520.4659192\n",
      "47157.3287298\n",
      "47843.6384076\n",
      "48281.8957645\n",
      "48672.2241956\n",
      "48769.4212951\n",
      "48817.9347203\n",
      "48966.0112143\n",
      "49014.1540065\n",
      "10035.3982788\n",
      "18734.7134411\n",
      "25722.5340734\n",
      "31038.7592745\n",
      "35470.3114262\n",
      "38908.5253884\n",
      "41271.9666789\n",
      "43436.3238232\n",
      "44468.0200772\n",
      "45699.5488917\n",
      "46435.0534151\n",
      "47173.4891022\n",
      "47713.9214186\n",
      "47910.6081203\n",
      "48157.0405723\n",
      "48452.3137173\n",
      "48648.8400175\n",
      "48846.359233\n",
      "48993.3965151\n",
      "49090.6667585\n",
      "49139.6849602\n",
      "49188.56853\n",
      "9730.34712297\n",
      "15800.9263929\n",
      "21083.156231\n",
      "25631.0583219\n",
      "30323.4420099\n",
      "33632.2655456\n",
      "36246.9601759\n",
      "38617.9599357\n",
      "39948.0057032\n",
      "41776.1375526\n",
      "43061.4399811\n",
      "44050.8046694\n",
      "45482.9411008\n",
      "46369.4216647\n",
      "46962.4867116\n",
      "47456.1847289\n",
      "47901.0150997\n",
      "48196.5476777\n",
      "48394.6064915\n",
      "48742.2944543\n",
      "48840.5435005\n",
      "49087.1365162\n",
      "49236.3447878\n",
      "49335.1784867\n",
      "49384.9219084\n",
      "5203.63923517\n",
      "10161.8328746\n",
      "15122.3381504\n",
      "18846.2660643\n",
      "22468.3278581\n",
      "25690.7319748\n",
      "28368.8507353\n",
      "31047.6739146\n",
      "33428.7453496\n",
      "34914.4946407\n",
      "36845.1892815\n",
      "38183.0769376\n",
      "39570.3640731\n",
      "40858.5492145\n",
      "41850.3237667\n",
      "42939.2237268\n",
      "43931.9845955\n",
      "44577.3266356\n",
      "45222.5819054\n",
      "46015.5202474\n",
      "46461.4093455\n",
      "46809.054253\n",
      "47155.9196589\n",
      "47602.8983539\n",
      "47702.2736701\n",
      "47801.5513918\n",
      "47900.642378\n",
      "48098.5702181\n",
      "48248.1172694\n",
      "48297.3457464\n",
      "48446.9174474\n",
      "48594.6684274\n",
      "48644.0435651\n",
      "48693.3576966\n",
      "48742.7186351\n",
      "48742.7186351\n",
      "48792.2154018\n",
      "48940.3299724\n",
      "48989.5623059\n",
      "48989.5623059\n",
      "49039.1293595\n",
      "49088.7328137\n",
      "49138.0684474\n",
      "49187.9041595\n",
      "49187.9041595\n",
      "49187.9041595\n",
      "49237.6189522\n",
      "49287.3121409\n",
      "49287.3121409\n",
      "49287.3121409\n",
      "49287.3121409\n",
      "49287.3121409\n",
      "49337.1707683\n",
      "49337.1707683\n",
      "49337.1707683\n",
      "49337.1707683\n",
      "49337.1707683\n",
      "49337.1707683\n",
      "49337.1707683\n",
      "49386.4691605\n",
      "49386.4691605\n",
      "49386.4691605\n",
      "49386.4691605\n",
      "49386.4691605\n",
      "49386.4691605\n",
      "49386.4691605\n",
      "49386.4691605\n",
      "49386.4691605\n",
      "49435.8472615\n",
      "49435.8472615\n",
      "49435.8472615\n",
      "49435.8472615\n",
      "49435.8472615\n",
      "49435.8472615\n",
      "49435.8472615\n",
      "49435.8472615\n",
      "49435.8472615\n",
      "49485.2412627\n",
      "49485.2412627\n",
      "49485.2412627\n",
      "49485.2412627\n",
      "49485.2412627\n",
      "49485.2412627\n",
      "49485.2412627\n",
      "49485.2412627\n",
      "49485.2412627\n",
      "49485.2412627\n",
      "49485.2412627\n",
      "49485.2412627\n",
      "49485.2412627\n",
      "49485.2412627\n",
      "49485.2412627\n",
      "49485.2412627\n",
      "49485.2412627\n",
      "49485.2412627\n",
      "49485.2412627\n",
      "49535.1621511\n",
      "49535.1621511\n",
      "49535.1621511\n",
      "49535.1621511\n",
      "49535.1621511\n",
      "2389.37002279\n",
      "5526.3057256\n",
      "8364.99280693\n",
      "10507.5197134\n",
      "13296.2365688\n",
      "15188.5088234\n",
      "16980.4941758\n",
      "18723.805027\n",
      "20217.2490397\n",
      "22158.259177\n",
      "24100.081446\n",
      "25294.0493105\n",
      "26737.8776868\n",
      "28630.4346984\n",
      "30222.299086\n",
      "31366.8259431\n",
      "32213.8717008\n",
      "33308.9037952\n",
      "34304.6589376\n",
      "35250.6270989\n",
      "36096.6409002\n",
      "36894.4768503\n",
      "37641.9054645\n",
      "38488.6262692\n",
      "39285.061447\n",
      "39982.3886861\n",
      "40430.2124433\n",
      "41177.5243011\n",
      "41475.8659499\n",
      "41974.1302591\n",
      "42522.4336052\n",
      "42870.9461536\n",
      "43319.0952675\n",
      "43667.4641436\n",
      "44114.6805159\n",
      "44462.6504279\n",
      "44860.923629\n",
      "45209.5130915\n",
      "45558.1822703\n",
      "45707.435475\n",
      "45906.4783057\n",
      "46055.9290555\n",
      "46304.7826462\n",
      "46404.3406887\n",
      "46503.9219662\n",
      "46852.5024212\n",
      "46952.1528154\n",
      "47151.1990794\n",
      "47250.485752\n",
      "47350.2857979\n",
      "47449.7424546\n",
      "47648.9326651\n",
      "47648.9326651\n",
      "47748.5475591\n",
      "47848.2444323\n",
      "48047.4212679\n",
      "48196.7540031\n",
      "48296.0460267\n",
      "48395.6443048\n",
      "48395.6443048\n",
      "48495.3820208\n",
      "48595.0235739\n",
      "48644.8645287\n",
      "48694.6284344\n",
      "48744.616647\n",
      "48744.616647\n",
      "48744.616647\n",
      "48744.616647\n",
      "48794.5364609\n",
      "48844.1472713\n",
      "48844.1472713\n",
      "48844.1472713\n",
      "48844.1472713\n",
      "48894.0821938\n",
      "48894.0821938\n",
      "48894.0821938\n",
      "48943.8490352\n",
      "48943.8490352\n",
      "48943.8490352\n",
      "48993.7804435\n",
      "48993.7804435\n",
      "48993.7804435\n",
      "49043.7711631\n",
      "49093.5256322\n",
      "49143.4771308\n",
      "49143.4771308\n",
      "49143.4771308\n",
      "49143.4771308\n",
      "49193.2231171\n",
      "49242.9239932\n",
      "49242.9239932\n",
      "49242.9239932\n",
      "49242.9239932\n",
      "49242.9239932\n",
      "49242.9239932\n",
      "49242.9239932\n",
      "49242.9239932\n",
      "49242.9239932\n",
      "49242.9239932\n",
      "49242.9239932\n",
      "49242.9239932\n",
      "0\n",
      "0\n",
      "0\n",
      "0\n",
      "0\n",
      "0\n",
      "0\n",
      "0\n",
      "0\n",
      "0\n",
      "0\n",
      "0\n",
      "0\n",
      "0\n",
      "0\n",
      "0\n",
      "0\n",
      "0\n",
      "0\n",
      "0\n",
      "0\n",
      "0\n",
      "0\n",
      "0\n",
      "0\n",
      "0\n",
      "0\n",
      "0\n",
      "0\n",
      "0\n",
      "0\n",
      "0\n",
      "0\n",
      "0\n",
      "0\n",
      "0\n",
      "0\n",
      "0\n",
      "0\n",
      "0\n",
      "0\n",
      "0\n",
      "0\n",
      "0\n",
      "0\n",
      "0\n",
      "0\n",
      "0\n",
      "0\n",
      "0\n",
      "0\n",
      "0\n",
      "0\n",
      "0\n",
      "0\n",
      "0\n",
      "0\n",
      "0\n",
      "0\n",
      "0\n",
      "0\n",
      "0\n",
      "0\n",
      "0\n",
      "0\n",
      "0\n",
      "0\n",
      "0\n",
      "0\n",
      "0\n",
      "0\n",
      "0\n",
      "0\n",
      "0\n",
      "0\n",
      "0\n",
      "0\n",
      "0\n",
      "0\n",
      "0\n",
      "0\n",
      "0\n",
      "0\n",
      "0\n",
      "0\n",
      "0\n",
      "0\n",
      "0\n",
      "0\n",
      "0\n",
      "0\n",
      "0\n",
      "0\n",
      "0\n",
      "0\n",
      "0\n",
      "0\n",
      "0\n",
      "0\n",
      "0\n",
      "0\n"
     ]
    }
   ],
   "source": [
    "con=anneal(steps=25,pcutoff=0.5,rigor=0.5,wcutoff=40)"
   ]
  },
  {
   "cell_type": "code",
   "execution_count": 33,
   "metadata": {},
   "outputs": [
    {
     "data": {
      "text/plain": [
       "(999, 6909, 49535.162151094963)"
      ]
     },
     "execution_count": 33,
     "metadata": {},
     "output_type": "execute_result"
    }
   ],
   "source": [
    "len(con.inventory), con.num, con.weight"
   ]
  },
  {
   "cell_type": "code",
   "execution_count": 34,
   "metadata": {},
   "outputs": [],
   "source": [
    "pd.DataFrame(con.bag_items,columns=['Gifts']).to_csv('submission2_2909.csv',index=False)"
   ]
  },
  {
   "cell_type": "markdown",
   "metadata": {},
   "source": [
    "## Sampling distribution of gifts"
   ]
  },
  {
   "cell_type": "code",
   "execution_count": 35,
   "metadata": {},
   "outputs": [],
   "source": [
    "def samplegifts(size,gifts=gifts,weights=weights):\n",
    "    inventory, picked = [], []\n",
    "\n",
    "    #gifts2=gifts.assign(lbs=gifts.merge(weights,left_on='gift',right_index=True).loc[:,'lbs'])\n",
    "    gifts2=gifts.assign(lbs=weights)\n",
    "\n",
    "    while np.sum(~gifts2.index.isin(picked))>=size:\n",
    "        pick=np.random.choice(gifts2[~gifts2.index.isin(picked)].index.values,size=size)\n",
    "        inventory.append(gifts2.loc[gifts2.index.isin(pick),'lbs'].mean())\n",
    "        picked.extend(pick)\n",
    "    return inventory"
   ]
  },
  {
   "cell_type": "code",
   "execution_count": 53,
   "metadata": {},
   "outputs": [
    {
     "data": {
      "text/plain": [
       "4.1779285749502675"
      ]
     },
     "execution_count": 53,
     "metadata": {},
     "output_type": "execute_result"
    }
   ],
   "source": [
    "inventory=samplegifts(3)\n",
    "np.std(inventory)"
   ]
  },
  {
   "cell_type": "code",
   "execution_count": 50,
   "metadata": {},
   "outputs": [
    {
     "data": {
      "image/png": "[encoded data removed]",
      "text/plain": [
       "<matplotlib.figure.Figure at 0xc61940>"
      ]
     },
     "metadata": {},
     "output_type": "display_data"
    }
   ],
   "source": [
    "plot_weights(inventory,10)"
   ]
  },
  {
   "cell_type": "markdown",
   "metadata": {
    "collapsed": true
   },
   "source": [
    "## Cluster weights (k < len(set(gifts.gift)))"
   ]
  },
  {
   "cell_type": "markdown",
   "metadata": {},
   "source": [
    "## weight Baised choice"
   ]
  },
  {
   "cell_type": "code",
   "execution_count": null,
   "metadata": {},
   "outputs": [],
   "source": []
  },
  {
   "cell_type": "code",
   "execution_count": null,
   "metadata": {},
   "outputs": [],
   "source": []
  },
  {
   "cell_type": "code",
   "execution_count": null,
   "metadata": {},
   "outputs": [],
   "source": []
  },
  {
   "cell_type": "code",
   "execution_count": null,
   "metadata": {},
   "outputs": [],
   "source": []
  }
 ],
 "metadata": {
  "kernelspec": {
   "display_name": "Python 3",
   "language": "python",
   "name": "python3"
  },
  "language_info": {
   "codemirror_mode": {
    "name": "ipython",
    "version": 3
   },
   "file_extension": ".py",
   "mimetype": "text/x-python",
   "name": "python",
   "nbconvert_exporter": "python",
   "pygments_lexer": "ipython3",
   "version": "3.4.3"
  }
 },
 "nbformat": 4,
 "nbformat_minor": 1
}
